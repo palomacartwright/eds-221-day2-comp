{
 "cells": [
  {
   "cell_type": "markdown",
   "id": "177c77dd",
   "metadata": {},
   "source": [
    "## Make and Index Data in Python \n",
    "Creating vectors and a pandas DataFrame, some low-key indexing "
   ]
  },
  {
   "cell_type": "code",
   "execution_count": 1,
   "id": "00c93c10",
   "metadata": {},
   "outputs": [],
   "source": [
    "import numpy as np\n",
    "import pandas as pd"
   ]
  },
  {
   "cell_type": "code",
   "execution_count": 6,
   "id": "552d6958",
   "metadata": {},
   "outputs": [
    {
     "data": {
      "text/plain": [
       "[1, 2, 8, 10, 20, 1000]"
      ]
     },
     "execution_count": 6,
     "metadata": {},
     "output_type": "execute_result"
    }
   ],
   "source": [
    "teddy = [1, 2, 8]\n",
    "type(teddy)\n",
    "\n",
    "khora = [10, 20, 1000]\n",
    "type(khora)\n",
    "\n",
    "teddy + khora"
   ]
  },
  {
   "cell_type": "code",
   "execution_count": 9,
   "id": "78463ae9",
   "metadata": {},
   "outputs": [
    {
     "data": {
      "text/plain": [
       "array([1, 2, 8])"
      ]
     },
     "execution_count": 9,
     "metadata": {},
     "output_type": "execute_result"
    }
   ],
   "source": [
    "teddy_vec = np.array(teddy)\n",
    "type(teddy_vec)\n",
    "\n",
    "teddy_vec"
   ]
  },
  {
   "cell_type": "code",
   "execution_count": 12,
   "id": "6cb8fc78",
   "metadata": {},
   "outputs": [
    {
     "data": {
      "text/plain": [
       "2"
      ]
     },
     "execution_count": 12,
     "metadata": {},
     "output_type": "execute_result"
    }
   ],
   "source": [
    "teddy_vec[1]"
   ]
  },
  {
   "cell_type": "code",
   "execution_count": 13,
   "id": "9bfd799b",
   "metadata": {},
   "outputs": [
    {
     "data": {
      "text/plain": [
       "[1, 5000, 8]"
      ]
     },
     "execution_count": 13,
     "metadata": {},
     "output_type": "execute_result"
    }
   ],
   "source": [
    "teddy"
   ]
  },
  {
   "cell_type": "code",
   "execution_count": 14,
   "id": "fb4b15e1",
   "metadata": {},
   "outputs": [],
   "source": [
    "apples = (\"red\", \"green\", \"yellow\")\n"
   ]
  },
  {
   "cell_type": "code",
   "execution_count": 15,
   "id": "87870f4d",
   "metadata": {},
   "outputs": [
    {
     "ename": "TypeError",
     "evalue": "'tuple' object does not support item assignment",
     "output_type": "error",
     "traceback": [
      "\u001b[0;31m---------------------------------------------------------------------------\u001b[0m",
      "\u001b[0;31mTypeError\u001b[0m                                 Traceback (most recent call last)",
      "\u001b[0;32m<ipython-input-15-fbbeb7885826>\u001b[0m in \u001b[0;36m<module>\u001b[0;34m\u001b[0m\n\u001b[0;32m----> 1\u001b[0;31m \u001b[0mapples\u001b[0m\u001b[0;34m[\u001b[0m\u001b[0;36m2\u001b[0m\u001b[0;34m]\u001b[0m \u001b[0;34m=\u001b[0m \u001b[0;34m\"orange\"\u001b[0m\u001b[0;34m\u001b[0m\u001b[0;34m\u001b[0m\u001b[0m\n\u001b[0m",
      "\u001b[0;31mTypeError\u001b[0m: 'tuple' object does not support item assignment"
     ]
    }
   ],
   "source": [
    "apples[2] = \"orange\""
   ]
  },
  {
   "cell_type": "code",
   "execution_count": 19,
   "id": "cd17bde5",
   "metadata": {},
   "outputs": [],
   "source": [
    "waffle = [2, \"a burrito\", [0, 1, 15], False]"
   ]
  },
  {
   "cell_type": "code",
   "execution_count": 20,
   "id": "6f6144e3",
   "metadata": {},
   "outputs": [
    {
     "data": {
      "text/plain": [
       "[2, 'a burrito', [0, 1, 15], False]"
      ]
     },
     "execution_count": 20,
     "metadata": {},
     "output_type": "execute_result"
    }
   ],
   "source": [
    "waffle"
   ]
  },
  {
   "cell_type": "code",
   "execution_count": 21,
   "id": "87be3124",
   "metadata": {},
   "outputs": [
    {
     "data": {
      "text/plain": [
       "[0, 1, 15]"
      ]
     },
     "execution_count": 21,
     "metadata": {},
     "output_type": "execute_result"
    }
   ],
   "source": [
    "waffle[2\n",
    "      ]"
   ]
  },
  {
   "cell_type": "code",
   "execution_count": 22,
   "id": "49a92942",
   "metadata": {},
   "outputs": [
    {
     "data": {
      "text/plain": [
       "int"
      ]
     },
     "execution_count": 22,
     "metadata": {},
     "output_type": "execute_result"
    }
   ],
   "source": [
    "type(waffle[0])"
   ]
  },
  {
   "cell_type": "code",
   "execution_count": 23,
   "id": "784a0bfa",
   "metadata": {},
   "outputs": [],
   "source": [
    "waffle[0] = \"It's Tuesday\""
   ]
  },
  {
   "cell_type": "code",
   "execution_count": 24,
   "id": "ec8b4eef",
   "metadata": {},
   "outputs": [
    {
     "data": {
      "text/plain": [
       "[\"It's Tuesday\", 'a burrito', [0, 1, 15], False]"
      ]
     },
     "execution_count": 24,
     "metadata": {},
     "output_type": "execute_result"
    }
   ],
   "source": [
    "waffle"
   ]
  },
  {
   "cell_type": "code",
   "execution_count": 33,
   "id": "d6d524df",
   "metadata": {},
   "outputs": [],
   "source": [
    "sharks = {'name': [\"Hammer\", \"Tiger\", \"Bull\"], \n",
    "          'location': [\"Hammer Site\", \"Tiger Beach\", \"Bimini Bay\"], \n",
    "          'number': [52, 48, 62]}"
   ]
  },
  {
   "cell_type": "code",
   "execution_count": 34,
   "id": "1e6be328",
   "metadata": {},
   "outputs": [
    {
     "data": {
      "text/plain": [
       "{'name': ['Hammer', 'Tiger', 'Bull'],\n",
       " 'location': ['Hammer Site', 'Tiger Beach', 'Bimini Bay'],\n",
       " 'number': [52, 48, 62]}"
      ]
     },
     "execution_count": 34,
     "metadata": {},
     "output_type": "execute_result"
    }
   ],
   "source": [
    "sharks"
   ]
  },
  {
   "cell_type": "code",
   "execution_count": 35,
   "id": "1ffae0d3",
   "metadata": {},
   "outputs": [],
   "source": [
    "sharks_df = pd.DataFrame(sharks)"
   ]
  },
  {
   "cell_type": "code",
   "execution_count": 36,
   "id": "7c57dae5",
   "metadata": {},
   "outputs": [
    {
     "data": {
      "text/html": [
       "<div>\n",
       "<style scoped>\n",
       "    .dataframe tbody tr th:only-of-type {\n",
       "        vertical-align: middle;\n",
       "    }\n",
       "\n",
       "    .dataframe tbody tr th {\n",
       "        vertical-align: top;\n",
       "    }\n",
       "\n",
       "    .dataframe thead th {\n",
       "        text-align: right;\n",
       "    }\n",
       "</style>\n",
       "<table border=\"1\" class=\"dataframe\">\n",
       "  <thead>\n",
       "    <tr style=\"text-align: right;\">\n",
       "      <th></th>\n",
       "      <th>name</th>\n",
       "      <th>location</th>\n",
       "      <th>number</th>\n",
       "    </tr>\n",
       "  </thead>\n",
       "  <tbody>\n",
       "    <tr>\n",
       "      <th>0</th>\n",
       "      <td>Hammer</td>\n",
       "      <td>Hammer Site</td>\n",
       "      <td>52</td>\n",
       "    </tr>\n",
       "    <tr>\n",
       "      <th>1</th>\n",
       "      <td>Tiger</td>\n",
       "      <td>Tiger Beach</td>\n",
       "      <td>48</td>\n",
       "    </tr>\n",
       "    <tr>\n",
       "      <th>2</th>\n",
       "      <td>Bull</td>\n",
       "      <td>Bimini Bay</td>\n",
       "      <td>62</td>\n",
       "    </tr>\n",
       "  </tbody>\n",
       "</table>\n",
       "</div>"
      ],
      "text/plain": [
       "     name     location  number\n",
       "0  Hammer  Hammer Site      52\n",
       "1   Tiger  Tiger Beach      48\n",
       "2    Bull   Bimini Bay      62"
      ]
     },
     "execution_count": 36,
     "metadata": {},
     "output_type": "execute_result"
    }
   ],
   "source": [
    "sharks_df"
   ]
  },
  {
   "cell_type": "code",
   "execution_count": 38,
   "id": "4a8f5f35",
   "metadata": {},
   "outputs": [],
   "source": [
    "sharks_noname = [[\"Hammer\", \"Tiger\", \"Bull\"], \n",
    "                 [\"Hammer Site\", \"Tiger Beach\", \"Bimini Bay\"], \n",
    "                 [52, 48, 62]]"
   ]
  },
  {
   "cell_type": "code",
   "execution_count": 39,
   "id": "19948e11",
   "metadata": {},
   "outputs": [
    {
     "data": {
      "text/plain": [
       "[['Hammer', 'Tiger', 'Bull'],\n",
       " ['Hammer Site', 'Tiger Beach', 'Bimini Bay'],\n",
       " [52, 48, 62]]"
      ]
     },
     "execution_count": 39,
     "metadata": {},
     "output_type": "execute_result"
    }
   ],
   "source": [
    "sharks_noname"
   ]
  },
  {
   "cell_type": "code",
   "execution_count": 40,
   "id": "8446b169",
   "metadata": {},
   "outputs": [],
   "source": [
    "sharks_nn_df = pd.DataFrame(sharks_noname)"
   ]
  },
  {
   "cell_type": "code",
   "execution_count": 41,
   "id": "20e1f047",
   "metadata": {},
   "outputs": [
    {
     "data": {
      "text/html": [
       "<div>\n",
       "<style scoped>\n",
       "    .dataframe tbody tr th:only-of-type {\n",
       "        vertical-align: middle;\n",
       "    }\n",
       "\n",
       "    .dataframe tbody tr th {\n",
       "        vertical-align: top;\n",
       "    }\n",
       "\n",
       "    .dataframe thead th {\n",
       "        text-align: right;\n",
       "    }\n",
       "</style>\n",
       "<table border=\"1\" class=\"dataframe\">\n",
       "  <thead>\n",
       "    <tr style=\"text-align: right;\">\n",
       "      <th></th>\n",
       "      <th>0</th>\n",
       "      <th>1</th>\n",
       "      <th>2</th>\n",
       "    </tr>\n",
       "  </thead>\n",
       "  <tbody>\n",
       "    <tr>\n",
       "      <th>0</th>\n",
       "      <td>Hammer</td>\n",
       "      <td>Tiger</td>\n",
       "      <td>Bull</td>\n",
       "    </tr>\n",
       "    <tr>\n",
       "      <th>1</th>\n",
       "      <td>Hammer Site</td>\n",
       "      <td>Tiger Beach</td>\n",
       "      <td>Bimini Bay</td>\n",
       "    </tr>\n",
       "    <tr>\n",
       "      <th>2</th>\n",
       "      <td>52</td>\n",
       "      <td>48</td>\n",
       "      <td>62</td>\n",
       "    </tr>\n",
       "  </tbody>\n",
       "</table>\n",
       "</div>"
      ],
      "text/plain": [
       "             0            1           2\n",
       "0       Hammer        Tiger        Bull\n",
       "1  Hammer Site  Tiger Beach  Bimini Bay\n",
       "2           52           48          62"
      ]
     },
     "execution_count": 41,
     "metadata": {},
     "output_type": "execute_result"
    }
   ],
   "source": [
    "sharks_nn_df"
   ]
  },
  {
   "cell_type": "code",
   "execution_count": null,
   "id": "61f3594d",
   "metadata": {},
   "outputs": [],
   "source": []
  }
 ],
 "metadata": {
  "kernelspec": {
   "display_name": "Python 3",
   "language": "python",
   "name": "python3"
  },
  "language_info": {
   "codemirror_mode": {
    "name": "ipython",
    "version": 3
   },
   "file_extension": ".py",
   "mimetype": "text/x-python",
   "name": "python",
   "nbconvert_exporter": "python",
   "pygments_lexer": "ipython3",
   "version": "3.8.8"
  }
 },
 "nbformat": 4,
 "nbformat_minor": 5
}
